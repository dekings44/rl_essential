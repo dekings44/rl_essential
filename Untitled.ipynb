{
 "cells": [
  {
   "cell_type": "markdown",
   "id": "b1038f9e-b5eb-491c-a324-cf2fd6d62503",
   "metadata": {},
   "source": [
    "## Importing Libraries and dependencies"
   ]
  },
  {
   "cell_type": "code",
   "execution_count": 2,
   "id": "6de01b73-a540-4173-bf64-4f63b2c5734d",
   "metadata": {},
   "outputs": [],
   "source": [
    "import os\n",
    "import gym\n",
    "from stable_baselines3 import PPO\n",
    "from stable_baselines3.common.vec_env import DummyVecEnv\n",
    "from stable_baselines3.common.evaluation import evaluate_policy"
   ]
  },
  {
   "cell_type": "markdown",
   "id": "ac6ab4d6-9ab6-4d18-b42e-452ac8169de3",
   "metadata": {},
   "source": [
    "## Loading Environment"
   ]
  },
  {
   "cell_type": "code",
   "execution_count": 3,
   "id": "abf5ad7e-33fd-49b9-bca2-8fad8d19335b",
   "metadata": {},
   "outputs": [],
   "source": [
    "environment_name = 'CartPole-v0'\n",
    "env = gym.make(environment_name)"
   ]
  },
  {
   "cell_type": "code",
   "execution_count": 4,
   "id": "3d115c11-7644-4874-b892-bced090adbac",
   "metadata": {},
   "outputs": [
    {
     "data": {
      "text/plain": [
       "'CartPole-v0'"
      ]
     },
     "execution_count": 4,
     "metadata": {},
     "output_type": "execute_result"
    }
   ],
   "source": [
    "environment_name"
   ]
  },
  {
   "cell_type": "code",
   "execution_count": 5,
   "id": "79ed9ff3-d526-4822-a0ca-f9226fb0f9d8",
   "metadata": {},
   "outputs": [
    {
     "name": "stdout",
     "output_type": "stream",
     "text": [
      "Episode:1 Score:11.0\n",
      "Episode:2 Score:17.0\n",
      "Episode:3 Score:53.0\n",
      "Episode:4 Score:23.0\n",
      "Episode:5 Score:31.0\n"
     ]
    }
   ],
   "source": [
    "episodes = 5\n",
    "for episode in range(1, episodes+1):\n",
    "    state = env.reset()\n",
    "    done = False\n",
    "    score = 0\n",
    "    \n",
    "    while not done:\n",
    "        env.render()\n",
    "        action = env.action_space.sample()\n",
    "        n_state, reward, done, info = env.step(action)\n",
    "        score += reward\n",
    "    print('Episode:{} Score:{}'.format(episode, score))\n",
    "    \n",
    "#env.close()"
   ]
  },
  {
   "cell_type": "code",
   "execution_count": 6,
   "id": "86a436d1-60fe-490f-b860-06f335f116e2",
   "metadata": {},
   "outputs": [],
   "source": [
    "env.close()"
   ]
  },
  {
   "cell_type": "code",
   "execution_count": 7,
   "id": "33147824-f60c-4b04-9a9b-06ca4f9f8a01",
   "metadata": {},
   "outputs": [
    {
     "data": {
      "text/plain": [
       "Discrete(2)"
      ]
     },
     "execution_count": 7,
     "metadata": {},
     "output_type": "execute_result"
    }
   ],
   "source": [
    "env.action_space"
   ]
  },
  {
   "cell_type": "code",
   "execution_count": null,
   "id": "9cfc2ce2-acee-4f6a-87b1-5619b9e0a3d9",
   "metadata": {},
   "outputs": [],
   "source": [
    "env.observation_"
   ]
  }
 ],
 "metadata": {
  "kernelspec": {
   "display_name": "Python 3 (ipykernel)",
   "language": "python",
   "name": "python3"
  },
  "language_info": {
   "codemirror_mode": {
    "name": "ipython",
    "version": 3
   },
   "file_extension": ".py",
   "mimetype": "text/x-python",
   "name": "python",
   "nbconvert_exporter": "python",
   "pygments_lexer": "ipython3",
   "version": "3.10.7"
  }
 },
 "nbformat": 4,
 "nbformat_minor": 5
}
