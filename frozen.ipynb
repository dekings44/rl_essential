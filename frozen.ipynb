{
 "cells": [
  {
   "cell_type": "code",
   "execution_count": 1,
   "id": "98fbab9e-a64e-4222-8b54-9e6971a2f8b1",
   "metadata": {},
   "outputs": [],
   "source": [
    "# Import all dependencies and libraries\n",
    "import numpy as np\n",
    "import gym\n",
    "import random\n",
    "import time\n",
    "from IPython.display import clear_output"
   ]
  },
  {
   "cell_type": "code",
   "execution_count": 3,
   "id": "45f8d801-e6bd-425e-9d68-2f7be8aae17c",
   "metadata": {},
   "outputs": [],
   "source": [
    "# declare an envirnment\n",
    "env = gym.make(\"FrozenLake-v1\")"
   ]
  },
  {
   "cell_type": "code",
   "execution_count": 5,
   "id": "603a5d50-5ea6-4126-8046-c54b2155066c",
   "metadata": {},
   "outputs": [
    {
     "name": "stdout",
     "output_type": "stream",
     "text": [
      "[[0. 0. 0. 0.]\n",
      " [0. 0. 0. 0.]\n",
      " [0. 0. 0. 0.]\n",
      " [0. 0. 0. 0.]\n",
      " [0. 0. 0. 0.]\n",
      " [0. 0. 0. 0.]\n",
      " [0. 0. 0. 0.]\n",
      " [0. 0. 0. 0.]\n",
      " [0. 0. 0. 0.]\n",
      " [0. 0. 0. 0.]\n",
      " [0. 0. 0. 0.]\n",
      " [0. 0. 0. 0.]\n",
      " [0. 0. 0. 0.]\n",
      " [0. 0. 0. 0.]\n",
      " [0. 0. 0. 0.]\n",
      " [0. 0. 0. 0.]]\n"
     ]
    }
   ],
   "source": [
    "action_space_size = env.action_space.n\n",
    "state_space_size = env.observation_space.n\n",
    "\n",
    "q_table = np.zeros((state_space_size, action_space_size))\n",
    "print(q_table)"
   ]
  },
  {
   "cell_type": "code",
   "execution_count": 7,
   "id": "0764df79-7869-4a6e-931a-7b34959da7a7",
   "metadata": {},
   "outputs": [],
   "source": [
    "#Initiate all the parameters needed for this game\n",
    "num_episodes = 10000\n",
    "max_steps_per_episode = 100\n",
    "\n",
    "learning_rate = 0.1\n",
    "discount_rate = 0.99\n",
    "\n",
    "exploration_rate = 1\n",
    "max_exploration_rate = 1\n",
    "min_exploration_rate = 0.01\n",
    "exploration_decay_rate = 0.001"
   ]
  },
  {
   "cell_type": "code",
   "execution_count": 13,
   "id": "5170f7f0-65f8-4d2f-8077-9b89af222dab",
   "metadata": {},
   "outputs": [],
   "source": [
    "# Algorithm implementation\n",
    "reward_all_episodes = []\n",
    "\n",
    "# Q-Learning algorithm\n",
    "for episode in range(num_episodes):\n",
    "    state = env.reset()\n",
    "    \n",
    "    done = False\n",
    "    reward_current_episode = 0\n",
    "    \n",
    "    for step in range(max_steps_per_episode):\n",
    "        \n",
    "        # Exploration and Exploitation trade-off\n",
    "        exploration_rate_threshold = random.uniform(0, 1)\n",
    "        if exploration_rate_threshold > exploration_rate:\n",
    "            action = np.argmax(q_table[state,:])\n",
    "        else:\n",
    "            action = env.action_space.sample()\n",
    "            \n",
    "        new_state, reward, done, info = env.step(action)\n",
    "        \n",
    "        # Update Q-table for Q(s, a)\n",
    "        q_table[state, action] = q_table[state, action] * (1 - learning_rate) + learning_rate * (reward + discount_rate * np.max(q_table[new_state, :]))\n",
    "        \n",
    "        state = new_state\n",
    "        \n",
    "        reward_current_episode += reward\n",
    "        \n",
    "        if done == True:\n",
    "            break\n",
    "            \n",
    "    # Exploration rate decay\n",
    "    exploration_rate = min_exploration_rate + (max_exploration_rate - min_exploration_rate) * np.exp(-exploration_decay_rate*episode)\n",
    "    \n",
    "    reward_all_episodes.append(reward_current_episode)"
   ]
  },
  {
   "cell_type": "code",
   "execution_count": 20,
   "id": "d95f8d45-6a94-484b-a5f0-09577a2c44d1",
   "metadata": {},
   "outputs": [
    {
     "name": "stdout",
     "output_type": "stream",
     "text": [
      ">>>>>>>>> Average Reward Per Thoursand Episodes <<<<<<<<\n",
      "\n",
      "1000 :  0.06100000000000005\n",
      "2000 :  0.22800000000000017\n",
      "3000 :  0.3840000000000003\n",
      "4000 :  0.5680000000000004\n",
      "5000 :  0.6520000000000005\n",
      "6000 :  0.6480000000000005\n",
      "7000 :  0.6840000000000005\n",
      "8000 :  0.7130000000000005\n",
      "9000 :  0.6850000000000005\n",
      "10000 :  0.6780000000000005\n",
      "\n",
      "\n",
      " >>>>>>>>>> Q-table <<<<<<<<<\n",
      "\n",
      "[[0.59548826 0.50995967 0.50487605 0.50444674]\n",
      " [0.31731065 0.30852286 0.36924074 0.5448295 ]\n",
      " [0.40561606 0.41900219 0.41649117 0.48730389]\n",
      " [0.3857789  0.31957766 0.23353449 0.45297862]\n",
      " [0.61497795 0.33766035 0.41045515 0.2627203 ]\n",
      " [0.         0.         0.         0.        ]\n",
      " [0.45551032 0.18674701 0.21116509 0.19618233]\n",
      " [0.         0.         0.         0.        ]\n",
      " [0.40442511 0.49349631 0.42951305 0.63970008]\n",
      " [0.44017186 0.68579101 0.44589377 0.43233372]\n",
      " [0.6679334  0.32689373 0.42246124 0.31471961]\n",
      " [0.         0.         0.         0.        ]\n",
      " [0.         0.         0.         0.        ]\n",
      " [0.57626552 0.4997485  0.75945899 0.39901299]\n",
      " [0.72176162 0.8982938  0.74754259 0.71428882]\n",
      " [0.         0.         0.         0.        ]]\n"
     ]
    }
   ],
   "source": [
    "# Calculate and print average reward per thousand episode\n",
    "\n",
    "rewards_per_thousand_episodes = np.split(np.array(reward_all_episodes), num_episodes/1000)\n",
    "count = 1000\n",
    "\n",
    "print(\">>>>>>>>> Average Reward Per Thoursand Episodes <<<<<<<<\\n\")\n",
    "for r in rewards_per_thousand_episodes:\n",
    "    print(count, \": \", str(sum(r/1000)))\n",
    "    count += 1000\n",
    "    \n",
    "print(\"\\n\\n >>>>>>>>>> Q-table <<<<<<<<<\\n\")\n",
    "print(q_table)"
   ]
  },
  {
   "cell_type": "code",
   "execution_count": 21,
   "id": "16713967-dfd0-46f5-a09a-78c61e09ba2d",
   "metadata": {},
   "outputs": [
    {
     "name": "stdout",
     "output_type": "stream",
     "text": [
      "  (Left)\n",
      "SFFF\n",
      "F\u001b[41mH\u001b[0mFH\n",
      "FFFH\n",
      "HFFG\n",
      ">>>>>>You fell through a hole<<<<<<\n"
     ]
    }
   ],
   "source": [
    "# Agent play three episode using knowledge gained from the training\n",
    "\n",
    "for episode in range(3):\n",
    "    state = env.reset()\n",
    "    done = False\n",
    "    print(\"<<<<Episode: \", episode+1, \">>>>>>\\n\\n\")\n",
    "    time.sleep(1)\n",
    "    \n",
    "    for steps in range(max_steps_per_episode):\n",
    "        clear_output(wait=True)\n",
    "        env.render()\n",
    "        time.sleep(0.3)\n",
    "        \n",
    "        action = np.argmax(q_table[state,:])\n",
    "        new_state, reward, done, info = env.step(action)\n",
    "        \n",
    "        if done:\n",
    "            clear_output(wait=True)\n",
    "            env.render()\n",
    "            if reward == 1:\n",
    "                print(\">>>>> You reached the goal <<<<<\")\n",
    "                time.sleep(3)\n",
    "            else:\n",
    "                print(\">>>>>>You fell through into a hole<<<<<<\")\n",
    "                time.sleep(3)\n",
    "            clear_output(wait=True)\n",
    "            break\n",
    "        state = new_state\n",
    "env.close()"
   ]
  },
  {
   "cell_type": "code",
   "execution_count": null,
   "id": "6821177d-32f5-41a1-bae7-29a70c03f583",
   "metadata": {},
   "outputs": [],
   "source": []
  }
 ],
 "metadata": {
  "kernelspec": {
   "display_name": "Python 3 (ipykernel)",
   "language": "python",
   "name": "python3"
  },
  "language_info": {
   "codemirror_mode": {
    "name": "ipython",
    "version": 3
   },
   "file_extension": ".py",
   "mimetype": "text/x-python",
   "name": "python",
   "nbconvert_exporter": "python",
   "pygments_lexer": "ipython3",
   "version": "3.10.7"
  }
 },
 "nbformat": 4,
 "nbformat_minor": 5
}
