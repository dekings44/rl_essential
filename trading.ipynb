{
 "cells": [
  {
   "cell_type": "code",
   "execution_count": 1,
   "id": "f98ba12a-2b14-4ab9-8d2a-d27bbd88b831",
   "metadata": {},
   "outputs": [],
   "source": [
    "import os\n",
    "import gym\n",
    "import gym_anytrading\n",
    "from stable_baselines3 import A2C\n",
    "from stable_baselines3.common.vec_env import DummyVecEnv\n",
    "from stable_baselines3.common.evaluation import evaluate_policy\n",
    "\n",
    "import numpy as np\n",
    "import pandas as pd\n",
    "import matplotlib.pyplot as plt"
   ]
  },
  {
   "cell_type": "code",
   "execution_count": 2,
   "id": "73936035-5be3-4ce8-94a0-335b93f49a13",
   "metadata": {},
   "outputs": [],
   "source": [
    "gme = pd.read_csv('GME.csv')"
   ]
  },
  {
   "cell_type": "code",
   "execution_count": 3,
   "id": "45991a62-ce10-4e0c-b753-aa3f92899fd6",
   "metadata": {},
   "outputs": [
    {
     "data": {
      "text/html": [
       "<div>\n",
       "<style scoped>\n",
       "    .dataframe tbody tr th:only-of-type {\n",
       "        vertical-align: middle;\n",
       "    }\n",
       "\n",
       "    .dataframe tbody tr th {\n",
       "        vertical-align: top;\n",
       "    }\n",
       "\n",
       "    .dataframe thead th {\n",
       "        text-align: right;\n",
       "    }\n",
       "</style>\n",
       "<table border=\"1\" class=\"dataframe\">\n",
       "  <thead>\n",
       "    <tr style=\"text-align: right;\">\n",
       "      <th></th>\n",
       "      <th>Date</th>\n",
       "      <th>Open</th>\n",
       "      <th>High</th>\n",
       "      <th>Low</th>\n",
       "      <th>Close</th>\n",
       "      <th>Adj Close</th>\n",
       "      <th>Volume</th>\n",
       "    </tr>\n",
       "  </thead>\n",
       "  <tbody>\n",
       "    <tr>\n",
       "      <th>0</th>\n",
       "      <td>2018-12-06</td>\n",
       "      <td>3.3750</td>\n",
       "      <td>3.4425</td>\n",
       "      <td>3.3100</td>\n",
       "      <td>3.3900</td>\n",
       "      <td>3.187680</td>\n",
       "      <td>12788800</td>\n",
       "    </tr>\n",
       "    <tr>\n",
       "      <th>1</th>\n",
       "      <td>2018-12-07</td>\n",
       "      <td>3.3875</td>\n",
       "      <td>3.5100</td>\n",
       "      <td>3.3750</td>\n",
       "      <td>3.4200</td>\n",
       "      <td>3.215889</td>\n",
       "      <td>13610400</td>\n",
       "    </tr>\n",
       "    <tr>\n",
       "      <th>2</th>\n",
       "      <td>2018-12-10</td>\n",
       "      <td>3.3450</td>\n",
       "      <td>3.3600</td>\n",
       "      <td>3.2075</td>\n",
       "      <td>3.3075</td>\n",
       "      <td>3.198964</td>\n",
       "      <td>11174800</td>\n",
       "    </tr>\n",
       "    <tr>\n",
       "      <th>3</th>\n",
       "      <td>2018-12-11</td>\n",
       "      <td>3.3375</td>\n",
       "      <td>3.3500</td>\n",
       "      <td>3.2125</td>\n",
       "      <td>3.2375</td>\n",
       "      <td>3.131261</td>\n",
       "      <td>9352800</td>\n",
       "    </tr>\n",
       "    <tr>\n",
       "      <th>4</th>\n",
       "      <td>2018-12-12</td>\n",
       "      <td>3.2650</td>\n",
       "      <td>3.3825</td>\n",
       "      <td>3.2450</td>\n",
       "      <td>3.3075</td>\n",
       "      <td>3.198964</td>\n",
       "      <td>7271200</td>\n",
       "    </tr>\n",
       "  </tbody>\n",
       "</table>\n",
       "</div>"
      ],
      "text/plain": [
       "         Date    Open    High     Low   Close  Adj Close    Volume\n",
       "0  2018-12-06  3.3750  3.4425  3.3100  3.3900   3.187680  12788800\n",
       "1  2018-12-07  3.3875  3.5100  3.3750  3.4200   3.215889  13610400\n",
       "2  2018-12-10  3.3450  3.3600  3.2075  3.3075   3.198964  11174800\n",
       "3  2018-12-11  3.3375  3.3500  3.2125  3.2375   3.131261   9352800\n",
       "4  2018-12-12  3.2650  3.3825  3.2450  3.3075   3.198964   7271200"
      ]
     },
     "execution_count": 3,
     "metadata": {},
     "output_type": "execute_result"
    }
   ],
   "source": [
    "gme.head()"
   ]
  },
  {
   "cell_type": "code",
   "execution_count": 4,
   "id": "f33d6cad-616a-4c2c-9d75-8c682c1030f0",
   "metadata": {},
   "outputs": [
    {
     "data": {
      "text/plain": [
       "(1006, 7)"
      ]
     },
     "execution_count": 4,
     "metadata": {},
     "output_type": "execute_result"
    }
   ],
   "source": [
    "gme.shape"
   ]
  },
  {
   "cell_type": "code",
   "execution_count": 5,
   "id": "aadfe534-53d7-4ec1-b630-a6d4d07ad0d6",
   "metadata": {},
   "outputs": [],
   "source": [
    "gme['Date'] = pd.to_datetime(gme['Date'])"
   ]
  },
  {
   "cell_type": "code",
   "execution_count": 6,
   "id": "c6e193a6-d216-47d6-a94a-6824b39f2e14",
   "metadata": {},
   "outputs": [
    {
     "data": {
      "text/plain": [
       "Date         datetime64[ns]\n",
       "Open                float64\n",
       "High                float64\n",
       "Low                 float64\n",
       "Close               float64\n",
       "Adj Close           float64\n",
       "Volume                int64\n",
       "dtype: object"
      ]
     },
     "execution_count": 6,
     "metadata": {},
     "output_type": "execute_result"
    }
   ],
   "source": [
    "gme.dtypes"
   ]
  },
  {
   "cell_type": "code",
   "execution_count": 7,
   "id": "117b7b25-8f34-48f5-920c-324dba96caf5",
   "metadata": {},
   "outputs": [],
   "source": [
    "#set the date column as index\n",
    "gme.set_index('Date', inplace=True)"
   ]
  },
  {
   "cell_type": "code",
   "execution_count": 8,
   "id": "5d2f8057-901d-418a-aec2-cd749a629f2a",
   "metadata": {},
   "outputs": [
    {
     "data": {
      "text/html": [
       "<div>\n",
       "<style scoped>\n",
       "    .dataframe tbody tr th:only-of-type {\n",
       "        vertical-align: middle;\n",
       "    }\n",
       "\n",
       "    .dataframe tbody tr th {\n",
       "        vertical-align: top;\n",
       "    }\n",
       "\n",
       "    .dataframe thead th {\n",
       "        text-align: right;\n",
       "    }\n",
       "</style>\n",
       "<table border=\"1\" class=\"dataframe\">\n",
       "  <thead>\n",
       "    <tr style=\"text-align: right;\">\n",
       "      <th></th>\n",
       "      <th>Open</th>\n",
       "      <th>High</th>\n",
       "      <th>Low</th>\n",
       "      <th>Close</th>\n",
       "      <th>Adj Close</th>\n",
       "      <th>Volume</th>\n",
       "    </tr>\n",
       "    <tr>\n",
       "      <th>Date</th>\n",
       "      <th></th>\n",
       "      <th></th>\n",
       "      <th></th>\n",
       "      <th></th>\n",
       "      <th></th>\n",
       "      <th></th>\n",
       "    </tr>\n",
       "  </thead>\n",
       "  <tbody>\n",
       "    <tr>\n",
       "      <th>2018-12-06</th>\n",
       "      <td>3.3750</td>\n",
       "      <td>3.4425</td>\n",
       "      <td>3.3100</td>\n",
       "      <td>3.3900</td>\n",
       "      <td>3.187680</td>\n",
       "      <td>12788800</td>\n",
       "    </tr>\n",
       "    <tr>\n",
       "      <th>2018-12-07</th>\n",
       "      <td>3.3875</td>\n",
       "      <td>3.5100</td>\n",
       "      <td>3.3750</td>\n",
       "      <td>3.4200</td>\n",
       "      <td>3.215889</td>\n",
       "      <td>13610400</td>\n",
       "    </tr>\n",
       "    <tr>\n",
       "      <th>2018-12-10</th>\n",
       "      <td>3.3450</td>\n",
       "      <td>3.3600</td>\n",
       "      <td>3.2075</td>\n",
       "      <td>3.3075</td>\n",
       "      <td>3.198964</td>\n",
       "      <td>11174800</td>\n",
       "    </tr>\n",
       "    <tr>\n",
       "      <th>2018-12-11</th>\n",
       "      <td>3.3375</td>\n",
       "      <td>3.3500</td>\n",
       "      <td>3.2125</td>\n",
       "      <td>3.2375</td>\n",
       "      <td>3.131261</td>\n",
       "      <td>9352800</td>\n",
       "    </tr>\n",
       "    <tr>\n",
       "      <th>2018-12-12</th>\n",
       "      <td>3.2650</td>\n",
       "      <td>3.3825</td>\n",
       "      <td>3.2450</td>\n",
       "      <td>3.3075</td>\n",
       "      <td>3.198964</td>\n",
       "      <td>7271200</td>\n",
       "    </tr>\n",
       "  </tbody>\n",
       "</table>\n",
       "</div>"
      ],
      "text/plain": [
       "              Open    High     Low   Close  Adj Close    Volume\n",
       "Date                                                           \n",
       "2018-12-06  3.3750  3.4425  3.3100  3.3900   3.187680  12788800\n",
       "2018-12-07  3.3875  3.5100  3.3750  3.4200   3.215889  13610400\n",
       "2018-12-10  3.3450  3.3600  3.2075  3.3075   3.198964  11174800\n",
       "2018-12-11  3.3375  3.3500  3.2125  3.2375   3.131261   9352800\n",
       "2018-12-12  3.2650  3.3825  3.2450  3.3075   3.198964   7271200"
      ]
     },
     "execution_count": 8,
     "metadata": {},
     "output_type": "execute_result"
    }
   ],
   "source": [
    "gme.head()"
   ]
  },
  {
   "cell_type": "code",
   "execution_count": 9,
   "id": "9a748bec-e92a-4d9a-9b1b-e3a2ce0e0ad0",
   "metadata": {},
   "outputs": [],
   "source": [
    "env = gym.make('stocks-v0', df = gme, frame_bound = (5,100), window_size = 5)"
   ]
  },
  {
   "cell_type": "code",
   "execution_count": 10,
   "id": "105d7f41-fc1f-430f-8020-a1a6e6358a4f",
   "metadata": {},
   "outputs": [
    {
     "data": {
      "text/plain": [
       "array([3.39  , 3.42  , 3.3075, 3.2375, 3.3075, 3.1975, 3.19  , 3.1625,\n",
       "       3.1825, 3.145 , 3.1075, 2.99  , 2.9175, 3.1   , 3.045 , 3.07  ,\n",
       "       3.155 , 3.2675, 3.2425, 3.81  , 3.87  , 3.9525, 3.995 , 3.99  ,\n",
       "       3.9625, 3.91  , 3.8825, 3.92  , 3.9425, 3.9825, 3.8175, 3.87  ,\n",
       "       3.95  , 3.975 , 3.875 , 2.82  , 2.8   , 2.835 , 2.81  , 2.8425,\n",
       "       2.9475, 2.8775, 2.8675, 2.8375, 2.825 , 2.8875, 2.8675, 2.8325,\n",
       "       2.8575, 2.8   , 2.8   , 2.7575, 2.8425, 2.8875, 2.91  , 2.9175,\n",
       "       2.925 , 2.9375, 2.8925, 2.9   , 2.89  , 2.8975, 2.7425, 2.815 ,\n",
       "       2.8675, 2.895 , 2.7375, 2.765 , 2.7675, 2.74  , 2.625 , 2.6375,\n",
       "       2.6125, 2.535 , 2.5875, 2.5725, 2.5475, 2.54  , 2.5925, 2.525 ,\n",
       "       2.4075, 2.5075, 2.465 , 2.485 , 2.455 , 2.4925, 2.44  , 2.33  ,\n",
       "       2.235 , 2.27  , 2.235 , 2.1925, 2.1625, 2.2225, 2.2525, 2.2375,\n",
       "       2.2225, 2.19  , 2.1625, 2.1275])"
      ]
     },
     "execution_count": 10,
     "metadata": {},
     "output_type": "execute_result"
    }
   ],
   "source": [
    "env.prices"
   ]
  },
  {
   "cell_type": "code",
   "execution_count": 11,
   "id": "bb4cbd32-f11f-47e6-985c-a1aac540856e",
   "metadata": {},
   "outputs": [
    {
     "data": {
      "text/plain": [
       "array([[ 3.3900e+00,  0.0000e+00],\n",
       "       [ 3.4200e+00,  3.0000e-02],\n",
       "       [ 3.3075e+00, -1.1250e-01],\n",
       "       [ 3.2375e+00, -7.0000e-02],\n",
       "       [ 3.3075e+00,  7.0000e-02],\n",
       "       [ 3.1975e+00, -1.1000e-01],\n",
       "       [ 3.1900e+00, -7.5000e-03],\n",
       "       [ 3.1625e+00, -2.7500e-02],\n",
       "       [ 3.1825e+00,  2.0000e-02],\n",
       "       [ 3.1450e+00, -3.7500e-02],\n",
       "       [ 3.1075e+00, -3.7500e-02],\n",
       "       [ 2.9900e+00, -1.1750e-01],\n",
       "       [ 2.9175e+00, -7.2500e-02],\n",
       "       [ 3.1000e+00,  1.8250e-01],\n",
       "       [ 3.0450e+00, -5.5000e-02],\n",
       "       [ 3.0700e+00,  2.5000e-02],\n",
       "       [ 3.1550e+00,  8.5000e-02],\n",
       "       [ 3.2675e+00,  1.1250e-01],\n",
       "       [ 3.2425e+00, -2.5000e-02],\n",
       "       [ 3.8100e+00,  5.6750e-01],\n",
       "       [ 3.8700e+00,  6.0000e-02],\n",
       "       [ 3.9525e+00,  8.2500e-02],\n",
       "       [ 3.9950e+00,  4.2500e-02],\n",
       "       [ 3.9900e+00, -5.0000e-03],\n",
       "       [ 3.9625e+00, -2.7500e-02],\n",
       "       [ 3.9100e+00, -5.2500e-02],\n",
       "       [ 3.8825e+00, -2.7500e-02],\n",
       "       [ 3.9200e+00,  3.7500e-02],\n",
       "       [ 3.9425e+00,  2.2500e-02],\n",
       "       [ 3.9825e+00,  4.0000e-02],\n",
       "       [ 3.8175e+00, -1.6500e-01],\n",
       "       [ 3.8700e+00,  5.2500e-02],\n",
       "       [ 3.9500e+00,  8.0000e-02],\n",
       "       [ 3.9750e+00,  2.5000e-02],\n",
       "       [ 3.8750e+00, -1.0000e-01],\n",
       "       [ 2.8200e+00, -1.0550e+00],\n",
       "       [ 2.8000e+00, -2.0000e-02],\n",
       "       [ 2.8350e+00,  3.5000e-02],\n",
       "       [ 2.8100e+00, -2.5000e-02],\n",
       "       [ 2.8425e+00,  3.2500e-02],\n",
       "       [ 2.9475e+00,  1.0500e-01],\n",
       "       [ 2.8775e+00, -7.0000e-02],\n",
       "       [ 2.8675e+00, -1.0000e-02],\n",
       "       [ 2.8375e+00, -3.0000e-02],\n",
       "       [ 2.8250e+00, -1.2500e-02],\n",
       "       [ 2.8875e+00,  6.2500e-02],\n",
       "       [ 2.8675e+00, -2.0000e-02],\n",
       "       [ 2.8325e+00, -3.5000e-02],\n",
       "       [ 2.8575e+00,  2.5000e-02],\n",
       "       [ 2.8000e+00, -5.7500e-02],\n",
       "       [ 2.8000e+00,  0.0000e+00],\n",
       "       [ 2.7575e+00, -4.2500e-02],\n",
       "       [ 2.8425e+00,  8.5000e-02],\n",
       "       [ 2.8875e+00,  4.5000e-02],\n",
       "       [ 2.9100e+00,  2.2500e-02],\n",
       "       [ 2.9175e+00,  7.5000e-03],\n",
       "       [ 2.9250e+00,  7.5000e-03],\n",
       "       [ 2.9375e+00,  1.2500e-02],\n",
       "       [ 2.8925e+00, -4.5000e-02],\n",
       "       [ 2.9000e+00,  7.5000e-03],\n",
       "       [ 2.8900e+00, -1.0000e-02],\n",
       "       [ 2.8975e+00,  7.5000e-03],\n",
       "       [ 2.7425e+00, -1.5500e-01],\n",
       "       [ 2.8150e+00,  7.2500e-02],\n",
       "       [ 2.8675e+00,  5.2500e-02],\n",
       "       [ 2.8950e+00,  2.7500e-02],\n",
       "       [ 2.7375e+00, -1.5750e-01],\n",
       "       [ 2.7650e+00,  2.7500e-02],\n",
       "       [ 2.7675e+00,  2.5000e-03],\n",
       "       [ 2.7400e+00, -2.7500e-02],\n",
       "       [ 2.6250e+00, -1.1500e-01],\n",
       "       [ 2.6375e+00,  1.2500e-02],\n",
       "       [ 2.6125e+00, -2.5000e-02],\n",
       "       [ 2.5350e+00, -7.7500e-02],\n",
       "       [ 2.5875e+00,  5.2500e-02],\n",
       "       [ 2.5725e+00, -1.5000e-02],\n",
       "       [ 2.5475e+00, -2.5000e-02],\n",
       "       [ 2.5400e+00, -7.5000e-03],\n",
       "       [ 2.5925e+00,  5.2500e-02],\n",
       "       [ 2.5250e+00, -6.7500e-02],\n",
       "       [ 2.4075e+00, -1.1750e-01],\n",
       "       [ 2.5075e+00,  1.0000e-01],\n",
       "       [ 2.4650e+00, -4.2500e-02],\n",
       "       [ 2.4850e+00,  2.0000e-02],\n",
       "       [ 2.4550e+00, -3.0000e-02],\n",
       "       [ 2.4925e+00,  3.7500e-02],\n",
       "       [ 2.4400e+00, -5.2500e-02],\n",
       "       [ 2.3300e+00, -1.1000e-01],\n",
       "       [ 2.2350e+00, -9.5000e-02],\n",
       "       [ 2.2700e+00,  3.5000e-02],\n",
       "       [ 2.2350e+00, -3.5000e-02],\n",
       "       [ 2.1925e+00, -4.2500e-02],\n",
       "       [ 2.1625e+00, -3.0000e-02],\n",
       "       [ 2.2225e+00,  6.0000e-02],\n",
       "       [ 2.2525e+00,  3.0000e-02],\n",
       "       [ 2.2375e+00, -1.5000e-02],\n",
       "       [ 2.2225e+00, -1.5000e-02],\n",
       "       [ 2.1900e+00, -3.2500e-02],\n",
       "       [ 2.1625e+00, -2.7500e-02],\n",
       "       [ 2.1275e+00, -3.5000e-02]])"
      ]
     },
     "execution_count": 11,
     "metadata": {},
     "output_type": "execute_result"
    }
   ],
   "source": [
    "env.signal_features"
   ]
  },
  {
   "cell_type": "markdown",
   "id": "a70fe423-d2f5-4dd5-84ec-0e1c48c9d398",
   "metadata": {},
   "source": [
    "## Building Environment"
   ]
  },
  {
   "cell_type": "code",
   "execution_count": 12,
   "id": "71d32a30-eddd-4b42-b638-86b2edad4491",
   "metadata": {},
   "outputs": [
    {
     "data": {
      "text/plain": [
       "Discrete(2)"
      ]
     },
     "execution_count": 12,
     "metadata": {},
     "output_type": "execute_result"
    }
   ],
   "source": [
    "env.action_space"
   ]
  },
  {
   "cell_type": "markdown",
   "id": "01e6ed9f-e222-4b7f-9d1d-47d23d411ebe",
   "metadata": {},
   "source": [
    "**This has only two action space which are buy and sell**"
   ]
  },
  {
   "cell_type": "code",
   "execution_count": 13,
   "id": "fa763cf7-ffcd-4a63-a47d-fd6f9e38d6c7",
   "metadata": {},
   "outputs": [
    {
     "name": "stdout",
     "output_type": "stream",
     "text": [
      "Info: {'total_reward': -0.8725000000000005, 'total_profit': 0.5239913656558995, 'position': 0}\n"
     ]
    },
    {
     "data": {
      "image/png": "[encoded data removed]",
      "text/plain": [
       "<Figure size 1080x504 with 1 Axes>"
      ]
     },
     "metadata": {
      "needs_background": "light"
     },
     "output_type": "display_data"
    }
   ],
   "source": [
    "state = env.reset()\n",
    "while True:\n",
    "    action = env.action_space.sample()\n",
    "    n_state, reward, done, info = env.step(action)\n",
    "    if done:\n",
    "        print(f'Info: {info}')\n",
    "        break\n",
    "\n",
    "plt.figure(figsize = (15, 7))\n",
    "plt.cla()\n",
    "env.render_all()\n",
    "plt.show()"
   ]
  },
  {
   "cell_type": "markdown",
   "id": "78f13d9f-3e0a-4c93-9962-44b7e94dbfab",
   "metadata": {},
   "source": [
    "## Build Environment and Train"
   ]
  },
  {
   "cell_type": "code",
   "execution_count": 14,
   "id": "87020ffa-d1c0-4f40-8e2e-b04b5501b9ea",
   "metadata": {},
   "outputs": [],
   "source": [
    "env_maker = lambda: gym.make('stocks-v0', df = gme, frame_bound = (5,100), window_size = 5)\n",
    "env = DummyVecEnv([env_maker])"
   ]
  },
  {
   "cell_type": "code",
   "execution_count": 15,
   "id": "bdd89bae-e02d-4e96-a705-80801e04a40f",
   "metadata": {},
   "outputs": [
    {
     "ename": "ValueError",
     "evalue": "Policy MlpLstmPolicy unknown",
     "output_type": "error",
     "traceback": [
      "\u001b[1;31m---------------------------------------------------------------------------\u001b[0m",
      "\u001b[1;31mValueError\u001b[0m                                Traceback (most recent call last)",
      "\u001b[1;32m~\\AppData\\Local\\Temp/ipykernel_7240/3475251722.py\u001b[0m in \u001b[0;36m<module>\u001b[1;34m\u001b[0m\n\u001b[1;32m----> 1\u001b[1;33m \u001b[0mmodel\u001b[0m \u001b[1;33m=\u001b[0m \u001b[0mA2C\u001b[0m\u001b[1;33m(\u001b[0m\u001b[1;34m'MlpLstmPolicy'\u001b[0m\u001b[1;33m,\u001b[0m \u001b[0menv\u001b[0m\u001b[1;33m,\u001b[0m \u001b[0mverbose\u001b[0m \u001b[1;33m=\u001b[0m \u001b[1;36m1\u001b[0m\u001b[1;33m)\u001b[0m\u001b[1;33m\u001b[0m\u001b[1;33m\u001b[0m\u001b[0m\n\u001b[0m\u001b[0;32m      2\u001b[0m \u001b[0mmodel\u001b[0m\u001b[1;33m.\u001b[0m\u001b[0mlearn\u001b[0m\u001b[1;33m(\u001b[0m\u001b[0mtotal_timesteps\u001b[0m \u001b[1;33m=\u001b[0m \u001b[1;36m100000\u001b[0m\u001b[1;33m)\u001b[0m\u001b[1;33m\u001b[0m\u001b[1;33m\u001b[0m\u001b[0m\n",
      "\u001b[1;32m~\\AppData\\Local\\Programs\\Python\\Python310\\lib\\site-packages\\stable_baselines3\\a2c\\a2c.py\u001b[0m in \u001b[0;36m__init__\u001b[1;34m(self, policy, env, learning_rate, n_steps, gamma, gae_lambda, ent_coef, vf_coef, max_grad_norm, rms_prop_eps, use_rms_prop, use_sde, sde_sample_freq, normalize_advantage, tensorboard_log, create_eval_env, policy_kwargs, verbose, seed, device, _init_setup_model)\u001b[0m\n\u001b[0;32m     88\u001b[0m     ):\n\u001b[0;32m     89\u001b[0m \u001b[1;33m\u001b[0m\u001b[0m\n\u001b[1;32m---> 90\u001b[1;33m         super().__init__(\n\u001b[0m\u001b[0;32m     91\u001b[0m             \u001b[0mpolicy\u001b[0m\u001b[1;33m,\u001b[0m\u001b[1;33m\u001b[0m\u001b[1;33m\u001b[0m\u001b[0m\n\u001b[0;32m     92\u001b[0m             \u001b[0menv\u001b[0m\u001b[1;33m,\u001b[0m\u001b[1;33m\u001b[0m\u001b[1;33m\u001b[0m\u001b[0m\n",
      "\u001b[1;32m~\\AppData\\Local\\Programs\\Python\\Python310\\lib\\site-packages\\stable_baselines3\\common\\on_policy_algorithm.py\u001b[0m in \u001b[0;36m__init__\u001b[1;34m(self, policy, env, learning_rate, n_steps, gamma, gae_lambda, ent_coef, vf_coef, max_grad_norm, use_sde, sde_sample_freq, tensorboard_log, create_eval_env, monitor_wrapper, policy_kwargs, verbose, seed, device, _init_setup_model, supported_action_spaces)\u001b[0m\n\u001b[0;32m     79\u001b[0m     ):\n\u001b[0;32m     80\u001b[0m \u001b[1;33m\u001b[0m\u001b[0m\n\u001b[1;32m---> 81\u001b[1;33m         super().__init__(\n\u001b[0m\u001b[0;32m     82\u001b[0m             \u001b[0mpolicy\u001b[0m\u001b[1;33m=\u001b[0m\u001b[0mpolicy\u001b[0m\u001b[1;33m,\u001b[0m\u001b[1;33m\u001b[0m\u001b[1;33m\u001b[0m\u001b[0m\n\u001b[0;32m     83\u001b[0m             \u001b[0menv\u001b[0m\u001b[1;33m=\u001b[0m\u001b[0menv\u001b[0m\u001b[1;33m,\u001b[0m\u001b[1;33m\u001b[0m\u001b[1;33m\u001b[0m\u001b[0m\n",
      "\u001b[1;32m~\\AppData\\Local\\Programs\\Python\\Python310\\lib\\site-packages\\stable_baselines3\\common\\base_class.py\u001b[0m in \u001b[0;36m__init__\u001b[1;34m(self, policy, env, learning_rate, policy_kwargs, tensorboard_log, verbose, device, support_multi_env, create_eval_env, monitor_wrapper, seed, use_sde, sde_sample_freq, supported_action_spaces)\u001b[0m\n\u001b[0;32m    111\u001b[0m     ):\n\u001b[0;32m    112\u001b[0m         \u001b[1;32mif\u001b[0m \u001b[0misinstance\u001b[0m\u001b[1;33m(\u001b[0m\u001b[0mpolicy\u001b[0m\u001b[1;33m,\u001b[0m \u001b[0mstr\u001b[0m\u001b[1;33m)\u001b[0m\u001b[1;33m:\u001b[0m\u001b[1;33m\u001b[0m\u001b[1;33m\u001b[0m\u001b[0m\n\u001b[1;32m--> 113\u001b[1;33m             \u001b[0mself\u001b[0m\u001b[1;33m.\u001b[0m\u001b[0mpolicy_class\u001b[0m \u001b[1;33m=\u001b[0m \u001b[0mself\u001b[0m\u001b[1;33m.\u001b[0m\u001b[0m_get_policy_from_name\u001b[0m\u001b[1;33m(\u001b[0m\u001b[0mpolicy\u001b[0m\u001b[1;33m)\u001b[0m\u001b[1;33m\u001b[0m\u001b[1;33m\u001b[0m\u001b[0m\n\u001b[0m\u001b[0;32m    114\u001b[0m         \u001b[1;32melse\u001b[0m\u001b[1;33m:\u001b[0m\u001b[1;33m\u001b[0m\u001b[1;33m\u001b[0m\u001b[0m\n\u001b[0;32m    115\u001b[0m             \u001b[0mself\u001b[0m\u001b[1;33m.\u001b[0m\u001b[0mpolicy_class\u001b[0m \u001b[1;33m=\u001b[0m \u001b[0mpolicy\u001b[0m\u001b[1;33m\u001b[0m\u001b[1;33m\u001b[0m\u001b[0m\n",
      "\u001b[1;32m~\\AppData\\Local\\Programs\\Python\\Python310\\lib\\site-packages\\stable_baselines3\\common\\base_class.py\u001b[0m in \u001b[0;36m_get_policy_from_name\u001b[1;34m(self, policy_name)\u001b[0m\n\u001b[0;32m    357\u001b[0m             \u001b[1;32mreturn\u001b[0m \u001b[0mself\u001b[0m\u001b[1;33m.\u001b[0m\u001b[0mpolicy_aliases\u001b[0m\u001b[1;33m[\u001b[0m\u001b[0mpolicy_name\u001b[0m\u001b[1;33m]\u001b[0m\u001b[1;33m\u001b[0m\u001b[1;33m\u001b[0m\u001b[0m\n\u001b[0;32m    358\u001b[0m         \u001b[1;32melse\u001b[0m\u001b[1;33m:\u001b[0m\u001b[1;33m\u001b[0m\u001b[1;33m\u001b[0m\u001b[0m\n\u001b[1;32m--> 359\u001b[1;33m             \u001b[1;32mraise\u001b[0m \u001b[0mValueError\u001b[0m\u001b[1;33m(\u001b[0m\u001b[1;34mf\"Policy {policy_name} unknown\"\u001b[0m\u001b[1;33m)\u001b[0m\u001b[1;33m\u001b[0m\u001b[1;33m\u001b[0m\u001b[0m\n\u001b[0m\u001b[0;32m    360\u001b[0m \u001b[1;33m\u001b[0m\u001b[0m\n\u001b[0;32m    361\u001b[0m     \u001b[1;32mdef\u001b[0m \u001b[0m_get_torch_save_params\u001b[0m\u001b[1;33m(\u001b[0m\u001b[0mself\u001b[0m\u001b[1;33m)\u001b[0m \u001b[1;33m->\u001b[0m \u001b[0mTuple\u001b[0m\u001b[1;33m[\u001b[0m\u001b[0mList\u001b[0m\u001b[1;33m[\u001b[0m\u001b[0mstr\u001b[0m\u001b[1;33m]\u001b[0m\u001b[1;33m,\u001b[0m \u001b[0mList\u001b[0m\u001b[1;33m[\u001b[0m\u001b[0mstr\u001b[0m\u001b[1;33m]\u001b[0m\u001b[1;33m]\u001b[0m\u001b[1;33m:\u001b[0m\u001b[1;33m\u001b[0m\u001b[1;33m\u001b[0m\u001b[0m\n",
      "\u001b[1;31mValueError\u001b[0m: Policy MlpLstmPolicy unknown"
     ]
    }
   ],
   "source": [
    "model = A2C('MlpLstmPolicy', env, verbose = 1)\n",
    "model.learn(total_timesteps = 100000)"
   ]
  },
  {
   "cell_type": "code",
   "execution_count": null,
   "id": "3e479a01-bfa3-4ff2-97e2-dd58e88727cb",
   "metadata": {},
   "outputs": [],
   "source": []
  }
 ],
 "metadata": {
  "kernelspec": {
   "display_name": "Python 3 (ipykernel)",
   "language": "python",
   "name": "python3"
  },
  "language_info": {
   "codemirror_mode": {
    "name": "ipython",
    "version": 3
   },
   "file_extension": ".py",
   "mimetype": "text/x-python",
   "name": "python",
   "nbconvert_exporter": "python",
   "pygments_lexer": "ipython3",
   "version": "3.10.7"
  }
 },
 "nbformat": 4,
 "nbformat_minor": 5
}
